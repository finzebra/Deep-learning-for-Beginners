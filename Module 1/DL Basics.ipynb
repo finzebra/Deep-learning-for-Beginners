{
 "cells": [
  {
   "cell_type": "code",
   "execution_count": 1,
   "id": "af001f24-7cf6-4f27-9869-638ff87f6bb5",
   "metadata": {},
   "outputs": [
    {
     "name": "stdout",
     "output_type": "stream",
     "text": [
      "Weighted Sum: [0.97516935]\n"
     ]
    }
   ],
   "source": [
    "import numpy as np\n",
    "\n",
    "# Initialize random weights for a simple 2-neuron network\n",
    "weights = np.random.rand(2, 1)  # 2 inputs, 1 output\n",
    "inputs = np.array([0.5, 0.8])\n",
    "\n",
    "# Weighted sum of inputs\n",
    "weighted_sum = np.dot(inputs, weights)\n",
    "print(\"Weighted Sum:\", weighted_sum)\n"
   ]
  },
  {
   "cell_type": "code",
   "execution_count": null,
   "id": "f6d6e5d1-892c-449b-a4e3-adc876573db5",
   "metadata": {},
   "outputs": [],
   "source": [
    "from tensorflow.keras.models import Sequential\n",
    "from tensorflow.keras.layers import Dense\n",
    "\n",
    "# Simple Perceptron model with 2 inputs and 1 output\n",
    "model = Sequential()\n",
    "model.add(Dense(1, input_dim=2, activation='sigmoid'))  # One neuron, sigmoid activation\n",
    "\n",
    "model.compile(optimizer='adam', loss='binary_crossentropy', metrics=['accuracy'])\n",
    "\n",
    "# Example data (XOR problem)\n",
    "X = np.array([[0, 0], [0, 1], [1, 0], [1, 1]])  # Input\n",
    "y = np.array([0, 1, 1, 0])  # Output\n",
    "\n",
    "# Train the model\n",
    "model.fit(X, y, epochs=1000, verbose=0)\n",
    "\n",
    "# Predict\n",
    "predictions = model.predict(X)\n",
    "print(\"Predictions:\", predictions)\n"
   ]
  },
  {
   "cell_type": "code",
   "execution_count": null,
   "id": "adec2d6b-38a5-47ff-bfd9-7c67287517d1",
   "metadata": {},
   "outputs": [],
   "source": [
    "from tensorflow.keras.models import Sequential\n",
    "from tensorflow.keras.layers import Dense\n",
    "\n",
    "# Multi-layer Feedforward network with one hidden layer\n",
    "model = Sequential()\n",
    "model.add(Dense(8, input_dim=2, activation='relu'))  # Hidden layer with 8 neurons\n",
    "model.add(Dense(1, activation='sigmoid'))  # Output layer\n",
    "\n",
    "model.compile(optimizer='adam', loss='binary_crossentropy', metrics=['accuracy'])\n",
    "\n",
    "# Training data for a binary classification task\n",
    "X = np.array([[0, 0], [0, 1], [1, 0], [1, 1]])  \n",
    "y = np.array([0, 1, 1, 0])\n",
    "\n",
    "model.fit(X, y, epochs=1000, verbose=0)\n",
    "\n",
    "# Predict\n",
    "predictions = model.predict(X)\n",
    "print(\"Predictions:\", predictions)\n"
   ]
  },
  {
   "cell_type": "code",
   "execution_count": null,
   "id": "588b3549-9273-41ac-b73c-b7d10545c75f",
   "metadata": {},
   "outputs": [],
   "source": [
    "from tensorflow.keras.models import Sequential\n",
    "from tensorflow.keras.layers import SimpleRNN, Dense\n",
    "\n",
    "# Simple RNN model for sequence processing\n",
    "model = Sequential()\n",
    "model.add(SimpleRNN(10, input_shape=(3, 1), activation='relu'))  # 10 neurons in RNN layer\n",
    "model.add(Dense(1, activation='sigmoid'))  # Output layer\n",
    "\n",
    "model.compile(optimizer='adam', loss='binary_crossentropy', metrics=['accuracy'])\n",
    "\n",
    "# Example input (sequence of 3 timesteps with 1 feature)\n",
    "X = np.array([[[0.1], [0.2], [0.3]], [[0.2], [0.3], [0.4]]])\n",
    "y = np.array([1, 0])\n",
    "\n",
    "model.fit(X, y, epochs=100, verbose=0)\n",
    "\n",
    "# Predict\n",
    "predictions = model.predict(X)\n",
    "print(\"Predictions:\", predictions)\n"
   ]
  },
  {
   "cell_type": "code",
   "execution_count": 3,
   "id": "7204eb6f-92c2-412e-9d77-23b0823e8400",
   "metadata": {},
   "outputs": [
    {
     "name": "stdout",
     "output_type": "stream",
     "text": [
      "Updated Weights: [ 0.47 -0.28]\n"
     ]
    }
   ],
   "source": [
    "# Example of gradient descent to update weights\n",
    "def gradient_descent(weights, learning_rate=0.1):\n",
    "    # Simulate a simple gradient descent update step\n",
    "    gradients = np.array([0.3, -0.2])  # Example gradients (just for demonstration)\n",
    "    weights -= learning_rate * gradients\n",
    "    return weights\n",
    "\n",
    "weights = np.array([0.5, -0.3])\n",
    "updated_weights = gradient_descent(weights)\n",
    "print(\"Updated Weights:\", updated_weights)\n"
   ]
  },
  {
   "cell_type": "code",
   "execution_count": 4,
   "id": "fe5a350f-84c0-4aa1-82d3-aa2113e813b8",
   "metadata": {},
   "outputs": [
    {
     "name": "stdout",
     "output_type": "stream",
     "text": [
      "Binary Step Outputs: [1 0 1]\n"
     ]
    }
   ],
   "source": [
    "def binary_step(x):\n",
    "    return np.where(x >= 0, 1, 0)\n",
    "\n",
    "# Example usage\n",
    "inputs = np.array([0.5, -0.2, 0.1])\n",
    "outputs = binary_step(inputs)\n",
    "print(\"Binary Step Outputs:\", outputs)"
   ]
  },
  {
   "cell_type": "code",
   "execution_count": 5,
   "id": "83534e55-bf2c-4622-bc06-1947119d26f5",
   "metadata": {},
   "outputs": [
    {
     "name": "stdout",
     "output_type": "stream",
     "text": [
      "Linear Function Outputs: [ 0.5 -0.2  0.1]\n"
     ]
    }
   ],
   "source": [
    "def linear(x):\n",
    "    return x  # Output is the same as input\n",
    "\n",
    "# Example usage\n",
    "inputs = np.array([0.5, -0.2, 0.1])\n",
    "outputs = linear(inputs)\n",
    "print(\"Linear Function Outputs:\", outputs)\n"
   ]
  },
  {
   "cell_type": "code",
   "execution_count": 6,
   "id": "b3a6ce6e-5423-4fd6-926f-d0775ad41d2f",
   "metadata": {},
   "outputs": [
    {
     "name": "stdout",
     "output_type": "stream",
     "text": [
      "Sigmoid Outputs: [0.62245933 0.450166   0.52497919]\n"
     ]
    }
   ],
   "source": [
    "def sigmoid(x):\n",
    "    return 1 / (1 + np.exp(-x))\n",
    "\n",
    "# Example usage\n",
    "inputs = np.array([0.5, -0.2, 0.1])\n",
    "outputs = sigmoid(inputs)\n",
    "print(\"Sigmoid Outputs:\", outputs)\n"
   ]
  },
  {
   "cell_type": "code",
   "execution_count": 7,
   "id": "a65194df-931b-4c01-b301-2fbdf7a0f228",
   "metadata": {},
   "outputs": [
    {
     "name": "stdout",
     "output_type": "stream",
     "text": [
      "ReLU Outputs: [0.5 0.  0.1]\n"
     ]
    }
   ],
   "source": [
    "def relu(x):\n",
    "    return np.maximum(0, x)\n",
    "\n",
    "# Example usage\n",
    "inputs = np.array([0.5, -0.2, 0.1])\n",
    "outputs = relu(inputs)\n",
    "print(\"ReLU Outputs:\", outputs)\n"
   ]
  },
  {
   "cell_type": "code",
   "execution_count": 2,
   "id": "932d09c0-649a-4d37-9657-713891d71998",
   "metadata": {},
   "outputs": [
    {
     "name": "stdout",
     "output_type": "stream",
     "text": [
      "Leaky ReLU Outputs: [ 0.5   -0.002  0.1  ]\n"
     ]
    }
   ],
   "source": [
    "import numpy as np\n",
    "def leaky_relu(x, alpha=0.01):\n",
    "    return np.where(x > 0, x, alpha * x)\n",
    "\n",
    "# Example usage\n",
    "inputs = np.array([0.5, -0.2, 0.1])\n",
    "outputs = leaky_relu(inputs)\n",
    "print(\"Leaky ReLU Outputs:\", outputs)\n"
   ]
  },
  {
   "cell_type": "code",
   "execution_count": 3,
   "id": "2251e1a9-8729-4857-a212-55d016bef2bc",
   "metadata": {},
   "outputs": [
    {
     "name": "stdout",
     "output_type": "stream",
     "text": [
      "Output Prediction (y_pred):\n",
      "[[0.69753753]]\n",
      "\n",
      "Updated Weights and Biases:\n",
      "Updated Weights between Input and Hidden Layer:\n",
      "[[0.37403581 0.95040007]\n",
      " [0.73098533 0.59803002]]\n",
      "Updated Weights between Hidden and Output Layer:\n",
      "[[0.12815659]\n",
      " [0.12121496]]\n",
      "Updated Biases for Hidden Layer:\n",
      "[[0.05664274 0.86527833]]\n",
      "Updated Bias for Output Layer:\n",
      "[[0.55943876]]\n"
     ]
    }
   ],
   "source": [
    "import numpy as np\n",
    "\n",
    "# Sigmoid Activation Function and its Derivative\n",
    "def sigmoid(x):\n",
    "    return 1 / (1 + np.exp(-x))\n",
    "\n",
    "def sigmoid_derivative(x):\n",
    "    return x * (1 - x)\n",
    "\n",
    "# Initialize random weights for the network\n",
    "np.random.seed(42)  # For reproducibility\n",
    "\n",
    "# Inputs (2 input features in this example)\n",
    "X = np.array([[0.35, 0.7]])\n",
    "\n",
    "# Target output\n",
    "y_true = np.array([[0.5]])\n",
    "\n",
    "# Random weights initialization\n",
    "weights_input_hidden = np.random.rand(2, 2)  # Weights for input to hidden layer (2 inputs -> 2 neurons)\n",
    "weights_hidden_output = np.random.rand(2, 1)  # Weights for hidden layer to output layer (2 neurons -> 1 output)\n",
    "\n",
    "# Biases for hidden layer and output layer\n",
    "bias_hidden = np.random.rand(1, 2)\n",
    "bias_output = np.random.rand(1, 1)\n",
    "\n",
    "# Step 1: Forward Propagation\n",
    "\n",
    "# Compute weighted sums at the hidden layer\n",
    "a1 = np.dot(X, weights_input_hidden) + bias_hidden  # Input to hidden layer\n",
    "\n",
    "# Apply sigmoid activation function at hidden layer\n",
    "y3 = sigmoid(a1)  # Output from hidden layer\n",
    "\n",
    "# Compute weighted sum at the output layer\n",
    "a2 = np.dot(y3, weights_hidden_output) + bias_output  # Hidden to output layer\n",
    "\n",
    "# Apply sigmoid activation at output layer\n",
    "y_pred = sigmoid(a2)  # Final output prediction\n",
    "\n",
    "print(\"Output Prediction (y_pred):\")\n",
    "print(y_pred)\n",
    "\n",
    "# Step 2: Backward Propagation\n",
    "\n",
    "# Calculate the error (difference between predicted output and true output)\n",
    "error = y_true - y_pred\n",
    "\n",
    "# Compute the derivative of the sigmoid function at the output layer\n",
    "delta_output = error * sigmoid_derivative(y_pred)\n",
    "\n",
    "# Compute gradients for weights between hidden and output layer\n",
    "grad_weights_hidden_output = np.dot(y3.T, delta_output)\n",
    "\n",
    "# Compute the derivative of the sigmoid function at the hidden layer\n",
    "delta_hidden = delta_output.dot(weights_hidden_output.T) * sigmoid_derivative(y3)\n",
    "\n",
    "# Compute gradients for weights between input and hidden layer\n",
    "grad_weights_input_hidden = np.dot(X.T, delta_hidden)\n",
    "\n",
    "# Learning rate\n",
    "learning_rate = 1\n",
    "\n",
    "# Update weights and biases using the gradient descent rule\n",
    "weights_input_hidden += learning_rate * grad_weights_input_hidden\n",
    "weights_hidden_output += learning_rate * grad_weights_hidden_output\n",
    "bias_hidden += learning_rate * np.sum(delta_hidden, axis=0, keepdims=True)\n",
    "bias_output += learning_rate * np.sum(delta_output, axis=0, keepdims=True)\n",
    "\n",
    "# Print updated weights and biases\n",
    "print(\"\\nUpdated Weights and Biases:\")\n",
    "print(\"Updated Weights between Input and Hidden Layer:\")\n",
    "print(weights_input_hidden)\n",
    "print(\"Updated Weights between Hidden and Output Layer:\")\n",
    "print(weights_hidden_output)\n",
    "print(\"Updated Biases for Hidden Layer:\")\n",
    "print(bias_hidden)\n",
    "print(\"Updated Bias for Output Layer:\")\n",
    "print(bias_output)\n"
   ]
  },
  {
   "cell_type": "code",
   "execution_count": 5,
   "id": "ded4292c-2900-4b1d-87a6-f9a65223d2c9",
   "metadata": {},
   "outputs": [
    {
     "name": "stdout",
     "output_type": "stream",
     "text": [
      "The error is: -0.17000000000000004\n"
     ]
    }
   ],
   "source": [
    "# Actual and predicted outputs\n",
    "y_true = 0.5  # Actual output\n",
    "y_pred = 0.67  # Predicted output\n",
    "\n",
    "# Step 2: Error Calculation (using Mean Squared Error)\n",
    "error = y_true - y_pred\n",
    "\n",
    "# Printing the error\n",
    "print(\"The error is:\", error)\n"
   ]
  },
  {
   "cell_type": "code",
   "execution_count": 6,
   "id": "0bf3dead-95ff-4660-9ee5-1676b3af1ee8",
   "metadata": {},
   "outputs": [
    {
     "name": "stdout",
     "output_type": "stream",
     "text": [
      "Output Prediction (y_pred): [[0.69753753]]\n",
      "\n",
      "Updated Weights and Biases:\n",
      "Updated Weights between Input and Hidden Layer:\n",
      "[[0.37403581 0.95040007]\n",
      " [0.73098533 0.59803002]]\n",
      "Updated Weights between Hidden and Output Layer:\n",
      "[[0.12815659]\n",
      " [0.12121496]]\n",
      "Updated Biases for Hidden Layer:\n",
      "[[0.05664274 0.86527833]]\n",
      "Updated Bias for Output Layer:\n",
      "[[0.55943876]]\n"
     ]
    }
   ],
   "source": [
    "import numpy as np\n",
    "\n",
    "# Sigmoid Activation Function and its Derivative\n",
    "def sigmoid(x):\n",
    "    return 1 / (1 + np.exp(-x))\n",
    "\n",
    "def sigmoid_derivative(x):\n",
    "    return x * (1 - x)\n",
    "\n",
    "# Initialize random weights for the network\n",
    "np.random.seed(42)  # For reproducibility\n",
    "\n",
    "# Inputs (2 input features in this example)\n",
    "X = np.array([[0.35, 0.7]])\n",
    "\n",
    "# Target output\n",
    "y_true = np.array([[0.5]])\n",
    "\n",
    "# Random weights initialization\n",
    "weights_input_hidden = np.random.rand(2, 2)  # Weights for input to hidden layer (2 inputs -> 2 neurons)\n",
    "weights_hidden_output = np.random.rand(2, 1)  # Weights for hidden layer to output layer (2 neurons -> 1 output)\n",
    "\n",
    "# Biases for hidden layer and output layer\n",
    "bias_hidden = np.random.rand(1, 2)\n",
    "bias_output = np.random.rand(1, 1)\n",
    "\n",
    "# Step 1: Forward Propagation\n",
    "\n",
    "# Compute weighted sums at the hidden layer\n",
    "a1 = np.dot(X, weights_input_hidden) + bias_hidden  # Input to hidden layer\n",
    "\n",
    "# Apply sigmoid activation function at hidden layer\n",
    "y3 = sigmoid(a1)  # Output from hidden layer\n",
    "\n",
    "# Compute weighted sum at the output layer\n",
    "a2 = np.dot(y3, weights_hidden_output) + bias_output  # Hidden to output layer\n",
    "\n",
    "# Apply sigmoid activation at output layer\n",
    "y_pred = sigmoid(a2)  # Final output prediction\n",
    "\n",
    "print(\"Output Prediction (y_pred):\", y_pred)\n",
    "\n",
    "# Step 2: Error Calculation\n",
    "error = y_true - y_pred  # Calculate error between predicted and true output\n",
    "\n",
    "# Step 3: Backpropagation\n",
    "\n",
    "# Compute the derivative of the sigmoid function at the output layer\n",
    "delta_output = error * sigmoid_derivative(y_pred)  # Output layer error\n",
    "\n",
    "# Compute gradients for weights between hidden and output layer\n",
    "grad_weights_hidden_output = np.dot(y3.T, delta_output)\n",
    "\n",
    "# Compute the derivative of the sigmoid function at the hidden layer\n",
    "delta_hidden = delta_output.dot(weights_hidden_output.T) * sigmoid_derivative(y3)  # Hidden layer error\n",
    "\n",
    "# Compute gradients for weights between input and hidden layer\n",
    "grad_weights_input_hidden = np.dot(X.T, delta_hidden)\n",
    "\n",
    "# Step 4: Weight Updates\n",
    "\n",
    "# Learning rate\n",
    "learning_rate = 1\n",
    "\n",
    "# Update weights and biases using gradient descent rule\n",
    "weights_input_hidden += learning_rate * grad_weights_input_hidden\n",
    "weights_hidden_output += learning_rate * grad_weights_hidden_output\n",
    "bias_hidden += learning_rate * np.sum(delta_hidden, axis=0, keepdims=True)\n",
    "bias_output += learning_rate * np.sum(delta_output, axis=0, keepdims=True)\n",
    "\n",
    "# Printing updated weights and biases\n",
    "print(\"\\nUpdated Weights and Biases:\")\n",
    "print(\"Updated Weights between Input and Hidden Layer:\")\n",
    "print(weights_input_hidden)\n",
    "print(\"Updated Weights between Hidden and Output Layer:\")\n",
    "print(weights_hidden_output)\n",
    "print(\"Updated Biases for Hidden Layer:\")\n",
    "print(bias_hidden)\n",
    "print(\"Updated Bias for Output Layer:\")\n",
    "print(bias_output)\n"
   ]
  },
  {
   "cell_type": "code",
   "execution_count": 7,
   "id": "543b1f6d-1374-4ef3-b8fb-45f460d28678",
   "metadata": {},
   "outputs": [
    {
     "name": "stdout",
     "output_type": "stream",
     "text": [
      "Epoch 0, Loss: 0.38554734413938047\n",
      "Epoch 1000, Loss: 0.0024675076107127966\n",
      "Epoch 2000, Loss: 0.0007644181764833406\n",
      "Epoch 3000, Loss: 0.00043493074410382384\n",
      "Epoch 4000, Loss: 0.00030022467164540756\n",
      "Epoch 5000, Loss: 0.00022792807267587936\n",
      "Epoch 6000, Loss: 0.00018310926728464853\n",
      "Epoch 7000, Loss: 0.00015271509218649898\n",
      "Epoch 8000, Loss: 0.0001307982054871689\n",
      "Epoch 9000, Loss: 0.00011427255120478843\n",
      "\n",
      "Final Output after Training:\n",
      "[[0.01098264]\n",
      " [0.98876484]\n",
      " [0.99187561]\n",
      " [0.00962912]]\n"
     ]
    }
   ],
   "source": [
    "import numpy as np\n",
    "\n",
    "# Sigmoid Activation Function and its Derivative\n",
    "def sigmoid(x):\n",
    "    return 1 / (1 + np.exp(-x))\n",
    "\n",
    "def sigmoid_derivative(x):\n",
    "    return x * (1 - x)\n",
    "\n",
    "# XOR Dataset (inputs and outputs)\n",
    "# Inputs: 4 samples with 2 features each\n",
    "X = np.array([[0, 0], [0, 1], [1, 0], [1, 1]])\n",
    "\n",
    "# Target Output: XOR output\n",
    "y = np.array([[0], [1], [1], [0]])\n",
    "\n",
    "# Initialize random weights for the network\n",
    "np.random.seed(42)  # For reproducibility\n",
    "\n",
    "# Weights for input to hidden layer (2 inputs -> 4 neurons)\n",
    "weights_input_hidden = np.random.rand(2, 4)\n",
    "\n",
    "# Weights for hidden to output layer (4 neurons -> 1 output)\n",
    "weights_hidden_output = np.random.rand(4, 1)\n",
    "\n",
    "# Biases for hidden layer and output layer\n",
    "bias_hidden = np.random.rand(1, 4)\n",
    "bias_output = np.random.rand(1, 1)\n",
    "\n",
    "# Learning rate\n",
    "learning_rate = 1\n",
    "\n",
    "# Training the network\n",
    "epochs = 10000\n",
    "for epoch in range(epochs):\n",
    "    # Step 1: Forward Propagation\n",
    "    # Compute weighted sums at the hidden layer\n",
    "    hidden_input = np.dot(X, weights_input_hidden) + bias_hidden\n",
    "    \n",
    "    # Apply sigmoid activation function at hidden layer\n",
    "    hidden_output = sigmoid(hidden_input)\n",
    "    \n",
    "    # Compute weighted sum at the output layer\n",
    "    final_input = np.dot(hidden_output, weights_hidden_output) + bias_output\n",
    "    \n",
    "    # Apply sigmoid activation at output layer\n",
    "    y_pred = sigmoid(final_input)\n",
    "    \n",
    "    # Step 2: Error Calculation (Mean Squared Error)\n",
    "    error = y - y_pred\n",
    "    \n",
    "    # Step 3: Backpropagation (Gradient Calculation)\n",
    "    \n",
    "    # Compute delta for output layer\n",
    "    delta_output = error * sigmoid_derivative(y_pred)\n",
    "    \n",
    "    # Compute gradients for weights between hidden and output layer\n",
    "    grad_weights_hidden_output = np.dot(hidden_output.T, delta_output)\n",
    "    \n",
    "    # Compute delta for hidden layer\n",
    "    delta_hidden = delta_output.dot(weights_hidden_output.T) * sigmoid_derivative(hidden_output)\n",
    "    \n",
    "    # Compute gradients for weights between input and hidden layer\n",
    "    grad_weights_input_hidden = np.dot(X.T, delta_hidden)\n",
    "    \n",
    "    # Step 4: Weight Updates (Gradient Descent)\n",
    "    weights_input_hidden += learning_rate * grad_weights_input_hidden\n",
    "    weights_hidden_output += learning_rate * grad_weights_hidden_output\n",
    "    bias_hidden += learning_rate * np.sum(delta_hidden, axis=0, keepdims=True)\n",
    "    bias_output += learning_rate * np.sum(delta_output, axis=0, keepdims=True)\n",
    "\n",
    "    # Print the loss every 1000 epochs for tracking progress\n",
    "    if epoch % 1000 == 0:\n",
    "        loss = np.mean(np.square(error))  # Mean Squared Error\n",
    "        print(f'Epoch {epoch}, Loss: {loss}')\n",
    "\n",
    "# Final output after training\n",
    "print(\"\\nFinal Output after Training:\")\n",
    "print(y_pred)\n",
    "\n"
   ]
  },
  {
   "cell_type": "code",
   "execution_count": 8,
   "id": "b4b0d332-20f4-4dae-92ac-4439223b80ee",
   "metadata": {},
   "outputs": [
    {
     "name": "stdout",
     "output_type": "stream",
     "text": [
      "Mean Squared Error: 0.2874999999999999\n"
     ]
    }
   ],
   "source": [
    "import numpy as np\n",
    "\n",
    "# Actual and predicted values\n",
    "y_true = np.array([3.0, -0.5, 2.0, 7.0])\n",
    "y_pred = np.array([2.5, 0.0, 2.1, 7.8])\n",
    "\n",
    "# Compute Mean Squared Error\n",
    "mse = np.mean((y_true - y_pred) ** 2)\n",
    "print(\"Mean Squared Error:\", mse)\n"
   ]
  },
  {
   "cell_type": "code",
   "execution_count": null,
   "id": "b928018f-f0ba-4c68-a19a-420d6c252cd5",
   "metadata": {},
   "outputs": [],
   "source": [
    "import tensorflow as tf\n",
    "\n",
    "# Actual (binary labels) and predicted probabilities\n",
    "y_true = [1, 0, 1, 1]\n",
    "y_pred = [0.9, 0.2, 0.8, 0.7]\n",
    "\n",
    "# Compute binary cross-entropy\n",
    "bce_loss = tf.keras.losses.BinaryCrossentropy()\n",
    "loss = bce_loss(y_true, y_pred).numpy()\n",
    "\n",
    "print(\"Binary Cross-Entropy Loss:\", loss)\n"
   ]
  },
  {
   "cell_type": "code",
   "execution_count": 10,
   "id": "dc83b462-4157-4f06-8519-8cc249a3e81e",
   "metadata": {},
   "outputs": [
    {
     "name": "stdout",
     "output_type": "stream",
     "text": [
      "Hinge Loss: 0.25\n"
     ]
    }
   ],
   "source": [
    "from sklearn.metrics import hinge_loss\n",
    "\n",
    "# True labels (+1 or -1 for binary classification)\n",
    "y_true = np.array([1, -1, 1, -1])\n",
    "\n",
    "# Predicted raw scores\n",
    "y_pred = np.array([0.8, -0.9, 0.7, -0.6])\n",
    "\n",
    "# Compute hinge loss\n",
    "loss = hinge_loss(y_true, y_pred)\n",
    "\n",
    "print(\"Hinge Loss:\", loss)\n"
   ]
  }
 ],
 "metadata": {
  "kernelspec": {
   "display_name": "Python 3 (ipykernel)",
   "language": "python",
   "name": "python3"
  },
  "language_info": {
   "codemirror_mode": {
    "name": "ipython",
    "version": 3
   },
   "file_extension": ".py",
   "mimetype": "text/x-python",
   "name": "python",
   "nbconvert_exporter": "python",
   "pygments_lexer": "ipython3",
   "version": "3.11.5"
  }
 },
 "nbformat": 4,
 "nbformat_minor": 5
}
